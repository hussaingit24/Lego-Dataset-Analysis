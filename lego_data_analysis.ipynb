{
 "cells": [
  {
   "cell_type": "markdown",
   "id": "46c451bc-90ae-403e-b0e8-d76629651279",
   "metadata": {},
   "source": [
    "# Lego Dataset Analysis "
   ]
  },
  {
   "cell_type": "markdown",
   "id": "96029a57-4b76-4bc0-b055-6de2363de0eb",
   "metadata": {},
   "source": [
    "### Objectives Of the Analysis :\n",
    "__1. What percentage of all licensed sets ever released were Star Wars themed?__ \n",
    "\n",
    "__2. In which year was Star Wars not the most popular licensed theme (in terms of number of sets released that year)?__"
   ]
  },
  {
   "cell_type": "markdown",
   "id": "b4189382-4fb4-4686-baa2-3300c58ff364",
   "metadata": {},
   "source": [
    "### Data Description :\n",
    "1. __Lego_sets.csv__\n",
    "\n",
    "- __set_num:__ A code that is unique to each set in the dataset. This column is critical, and a missing value indicates the set is a duplicate or invalid!\n",
    "- __set_name:__ A name for every set in the dataset (note that this can be the same for different sets).\n",
    "- __year:__ The date the set was released.\n",
    "- __num_parts:__ The number of parts contained in the set. This column is not central to our analyses, so missing values are acceptable.\n",
    "- __theme_name:__ The name of the sub-theme of the set.\n",
    "- __parent_theme:__ The name of the parent theme the set belongs to. Matches the `name` column of the `parent_themes` csv file.\n",
    "\n",
    "2. __parent_theme.csv__\n",
    "\n",
    "- __id:__ A code that is unique to every theme.\n",
    "- __name:__ The name of the parent theme.\n",
    "- __is_licensed:__ A Boolean column specifying whether the theme is a licensed theme."
   ]
  },
  {
   "cell_type": "markdown",
   "id": "5c574030-4789-419b-96c4-f139097af820",
   "metadata": {},
   "source": [
    "### Importing the necessary Libraries"
   ]
  },
  {
   "cell_type": "code",
   "execution_count": 1,
   "id": "7295f268-a50d-4e91-b07e-f7a630aa2efa",
   "metadata": {
    "tags": []
   },
   "outputs": [],
   "source": [
    "import pandas as pd\n",
    "import matplotlib.pyplot as plt"
   ]
  },
  {
   "cell_type": "code",
   "execution_count": 2,
   "id": "c4fb0f69-0806-4c79-827e-a917e7c8dbfb",
   "metadata": {
    "tags": []
   },
   "outputs": [],
   "source": [
    "#importing the lego_sets data\n",
    "df = pd.read_csv('C:/Users/hi/Downloads/Lego_Dataset_Analysis/lego_sets.csv')"
   ]
  },
  {
   "cell_type": "code",
   "execution_count": 3,
   "id": "835f22b9-700c-4403-bc5c-cea37c3f80ea",
   "metadata": {
    "tags": []
   },
   "outputs": [],
   "source": [
    "#importing the parent_themes data\n",
    "themes = pd.read_csv('C:/Users/hi/Downloads/Lego_Dataset_Analysis/parent_themes.csv')"
   ]
  },
  {
   "cell_type": "code",
   "execution_count": 4,
   "id": "2dc251f5-0a46-4d0d-a2f9-b83a1454edc0",
   "metadata": {
    "tags": []
   },
   "outputs": [
    {
     "data": {
      "text/html": [
       "<div>\n",
       "<style scoped>\n",
       "    .dataframe tbody tr th:only-of-type {\n",
       "        vertical-align: middle;\n",
       "    }\n",
       "\n",
       "    .dataframe tbody tr th {\n",
       "        vertical-align: top;\n",
       "    }\n",
       "\n",
       "    .dataframe thead th {\n",
       "        text-align: right;\n",
       "    }\n",
       "</style>\n",
       "<table border=\"1\" class=\"dataframe\">\n",
       "  <thead>\n",
       "    <tr style=\"text-align: right;\">\n",
       "      <th></th>\n",
       "      <th>set_num</th>\n",
       "      <th>name</th>\n",
       "      <th>year</th>\n",
       "      <th>num_parts</th>\n",
       "      <th>theme_name</th>\n",
       "      <th>parent_theme</th>\n",
       "    </tr>\n",
       "  </thead>\n",
       "  <tbody>\n",
       "    <tr>\n",
       "      <th>0</th>\n",
       "      <td>00-1</td>\n",
       "      <td>Weetabix Castle</td>\n",
       "      <td>1970</td>\n",
       "      <td>471.0</td>\n",
       "      <td>Castle</td>\n",
       "      <td>Legoland</td>\n",
       "    </tr>\n",
       "    <tr>\n",
       "      <th>1</th>\n",
       "      <td>0011-2</td>\n",
       "      <td>Town Mini-Figures</td>\n",
       "      <td>1978</td>\n",
       "      <td>NaN</td>\n",
       "      <td>Supplemental</td>\n",
       "      <td>Town</td>\n",
       "    </tr>\n",
       "    <tr>\n",
       "      <th>2</th>\n",
       "      <td>0011-3</td>\n",
       "      <td>Castle 2 for 1 Bonus Offer</td>\n",
       "      <td>1987</td>\n",
       "      <td>NaN</td>\n",
       "      <td>Lion Knights</td>\n",
       "      <td>Castle</td>\n",
       "    </tr>\n",
       "    <tr>\n",
       "      <th>3</th>\n",
       "      <td>0012-1</td>\n",
       "      <td>Space Mini-Figures</td>\n",
       "      <td>1979</td>\n",
       "      <td>12.0</td>\n",
       "      <td>Supplemental</td>\n",
       "      <td>Space</td>\n",
       "    </tr>\n",
       "    <tr>\n",
       "      <th>4</th>\n",
       "      <td>0013-1</td>\n",
       "      <td>Space Mini-Figures</td>\n",
       "      <td>1979</td>\n",
       "      <td>12.0</td>\n",
       "      <td>Supplemental</td>\n",
       "      <td>Space</td>\n",
       "    </tr>\n",
       "  </tbody>\n",
       "</table>\n",
       "</div>"
      ],
      "text/plain": [
       "  set_num                        name  year  num_parts    theme_name  \\\n",
       "0    00-1             Weetabix Castle  1970      471.0        Castle   \n",
       "1  0011-2           Town Mini-Figures  1978        NaN  Supplemental   \n",
       "2  0011-3  Castle 2 for 1 Bonus Offer  1987        NaN  Lion Knights   \n",
       "3  0012-1          Space Mini-Figures  1979       12.0  Supplemental   \n",
       "4  0013-1          Space Mini-Figures  1979       12.0  Supplemental   \n",
       "\n",
       "  parent_theme  \n",
       "0     Legoland  \n",
       "1         Town  \n",
       "2       Castle  \n",
       "3        Space  \n",
       "4        Space  "
      ]
     },
     "execution_count": 4,
     "metadata": {},
     "output_type": "execute_result"
    }
   ],
   "source": [
    "df.head()"
   ]
  },
  {
   "cell_type": "code",
   "execution_count": 5,
   "id": "e522eecb-65bc-4d8e-99b1-1e8c6388552e",
   "metadata": {
    "tags": []
   },
   "outputs": [
    {
     "data": {
      "text/html": [
       "<div>\n",
       "<style scoped>\n",
       "    .dataframe tbody tr th:only-of-type {\n",
       "        vertical-align: middle;\n",
       "    }\n",
       "\n",
       "    .dataframe tbody tr th {\n",
       "        vertical-align: top;\n",
       "    }\n",
       "\n",
       "    .dataframe thead th {\n",
       "        text-align: right;\n",
       "    }\n",
       "</style>\n",
       "<table border=\"1\" class=\"dataframe\">\n",
       "  <thead>\n",
       "    <tr style=\"text-align: right;\">\n",
       "      <th></th>\n",
       "      <th>id</th>\n",
       "      <th>name</th>\n",
       "      <th>is_licensed</th>\n",
       "    </tr>\n",
       "  </thead>\n",
       "  <tbody>\n",
       "    <tr>\n",
       "      <th>0</th>\n",
       "      <td>1</td>\n",
       "      <td>Technic</td>\n",
       "      <td>False</td>\n",
       "    </tr>\n",
       "    <tr>\n",
       "      <th>1</th>\n",
       "      <td>22</td>\n",
       "      <td>Creator</td>\n",
       "      <td>False</td>\n",
       "    </tr>\n",
       "    <tr>\n",
       "      <th>2</th>\n",
       "      <td>50</td>\n",
       "      <td>Town</td>\n",
       "      <td>False</td>\n",
       "    </tr>\n",
       "    <tr>\n",
       "      <th>3</th>\n",
       "      <td>112</td>\n",
       "      <td>Racers</td>\n",
       "      <td>False</td>\n",
       "    </tr>\n",
       "    <tr>\n",
       "      <th>4</th>\n",
       "      <td>126</td>\n",
       "      <td>Space</td>\n",
       "      <td>False</td>\n",
       "    </tr>\n",
       "  </tbody>\n",
       "</table>\n",
       "</div>"
      ],
      "text/plain": [
       "    id     name  is_licensed\n",
       "0    1  Technic        False\n",
       "1   22  Creator        False\n",
       "2   50     Town        False\n",
       "3  112   Racers        False\n",
       "4  126    Space        False"
      ]
     },
     "execution_count": 5,
     "metadata": {},
     "output_type": "execute_result"
    }
   ],
   "source": [
    "themes.head()"
   ]
  },
  {
   "cell_type": "markdown",
   "id": "357e3e52-3831-457d-a1b7-b23dbc0e5cde",
   "metadata": {},
   "source": [
    "Since we have matching columns in both files we might as well merge them for easier Analysis"
   ]
  },
  {
   "cell_type": "code",
   "execution_count": 6,
   "id": "5c0ea09d-5605-401b-9eec-3f3b125b8aa8",
   "metadata": {
    "tags": []
   },
   "outputs": [],
   "source": [
    "merged_df = df.merge(themes, left_on='parent_theme', right_on='name')"
   ]
  },
  {
   "cell_type": "code",
   "execution_count": 7,
   "id": "eb896fd0-51d6-4d7c-a3b0-8cf3511d8cc6",
   "metadata": {
    "tags": []
   },
   "outputs": [
    {
     "data": {
      "text/html": [
       "<div>\n",
       "<style scoped>\n",
       "    .dataframe tbody tr th:only-of-type {\n",
       "        vertical-align: middle;\n",
       "    }\n",
       "\n",
       "    .dataframe tbody tr th {\n",
       "        vertical-align: top;\n",
       "    }\n",
       "\n",
       "    .dataframe thead th {\n",
       "        text-align: right;\n",
       "    }\n",
       "</style>\n",
       "<table border=\"1\" class=\"dataframe\">\n",
       "  <thead>\n",
       "    <tr style=\"text-align: right;\">\n",
       "      <th></th>\n",
       "      <th>set_num</th>\n",
       "      <th>name_x</th>\n",
       "      <th>year</th>\n",
       "      <th>num_parts</th>\n",
       "      <th>theme_name</th>\n",
       "      <th>parent_theme</th>\n",
       "      <th>id</th>\n",
       "      <th>name_y</th>\n",
       "      <th>is_licensed</th>\n",
       "    </tr>\n",
       "  </thead>\n",
       "  <tbody>\n",
       "    <tr>\n",
       "      <th>0</th>\n",
       "      <td>00-1</td>\n",
       "      <td>Weetabix Castle</td>\n",
       "      <td>1970</td>\n",
       "      <td>471.0</td>\n",
       "      <td>Castle</td>\n",
       "      <td>Legoland</td>\n",
       "      <td>411</td>\n",
       "      <td>Legoland</td>\n",
       "      <td>False</td>\n",
       "    </tr>\n",
       "    <tr>\n",
       "      <th>1</th>\n",
       "      <td>00-2</td>\n",
       "      <td>Weetabix Promotional House 1</td>\n",
       "      <td>1976</td>\n",
       "      <td>NaN</td>\n",
       "      <td>Building</td>\n",
       "      <td>Legoland</td>\n",
       "      <td>411</td>\n",
       "      <td>Legoland</td>\n",
       "      <td>False</td>\n",
       "    </tr>\n",
       "    <tr>\n",
       "      <th>2</th>\n",
       "      <td>00-3</td>\n",
       "      <td>Weetabix Promotional House 2</td>\n",
       "      <td>1976</td>\n",
       "      <td>NaN</td>\n",
       "      <td>Building</td>\n",
       "      <td>Legoland</td>\n",
       "      <td>411</td>\n",
       "      <td>Legoland</td>\n",
       "      <td>False</td>\n",
       "    </tr>\n",
       "    <tr>\n",
       "      <th>3</th>\n",
       "      <td>00-4</td>\n",
       "      <td>Weetabix Promotional Windmill</td>\n",
       "      <td>1976</td>\n",
       "      <td>126.0</td>\n",
       "      <td>Building</td>\n",
       "      <td>Legoland</td>\n",
       "      <td>411</td>\n",
       "      <td>Legoland</td>\n",
       "      <td>False</td>\n",
       "    </tr>\n",
       "    <tr>\n",
       "      <th>4</th>\n",
       "      <td>00-7</td>\n",
       "      <td>Weetabix Promotional Lego Village</td>\n",
       "      <td>1976</td>\n",
       "      <td>NaN</td>\n",
       "      <td>Building</td>\n",
       "      <td>Legoland</td>\n",
       "      <td>411</td>\n",
       "      <td>Legoland</td>\n",
       "      <td>False</td>\n",
       "    </tr>\n",
       "  </tbody>\n",
       "</table>\n",
       "</div>"
      ],
      "text/plain": [
       "  set_num                             name_x  year  num_parts theme_name  \\\n",
       "0    00-1                    Weetabix Castle  1970      471.0     Castle   \n",
       "1    00-2       Weetabix Promotional House 1  1976        NaN   Building   \n",
       "2    00-3       Weetabix Promotional House 2  1976        NaN   Building   \n",
       "3    00-4      Weetabix Promotional Windmill  1976      126.0   Building   \n",
       "4    00-7  Weetabix Promotional Lego Village  1976        NaN   Building   \n",
       "\n",
       "  parent_theme   id    name_y  is_licensed  \n",
       "0     Legoland  411  Legoland        False  \n",
       "1     Legoland  411  Legoland        False  \n",
       "2     Legoland  411  Legoland        False  \n",
       "3     Legoland  411  Legoland        False  \n",
       "4     Legoland  411  Legoland        False  "
      ]
     },
     "execution_count": 7,
     "metadata": {},
     "output_type": "execute_result"
    }
   ],
   "source": [
    "merged_df.head()"
   ]
  },
  {
   "cell_type": "markdown",
   "id": "e42ffde4-d685-4b36-a37b-ab7c341e0635",
   "metadata": {},
   "source": [
    "We can see that we have duplicate columns in the merged DataFrame namely, __parent_theme__ and __name_y__. So we are going to drop one"
   ]
  },
  {
   "cell_type": "code",
   "execution_count": 8,
   "id": "dc22f1e6-b706-4ebe-a777-5e7fa360b833",
   "metadata": {
    "tags": []
   },
   "outputs": [],
   "source": [
    "merged_df.drop(columns=\"name_y\",inplace=True)"
   ]
  },
  {
   "cell_type": "code",
   "execution_count": 9,
   "id": "9349730c-2124-4b58-b765-d73aa52d5e04",
   "metadata": {
    "tags": []
   },
   "outputs": [
    {
     "data": {
      "text/html": [
       "<div>\n",
       "<style scoped>\n",
       "    .dataframe tbody tr th:only-of-type {\n",
       "        vertical-align: middle;\n",
       "    }\n",
       "\n",
       "    .dataframe tbody tr th {\n",
       "        vertical-align: top;\n",
       "    }\n",
       "\n",
       "    .dataframe thead th {\n",
       "        text-align: right;\n",
       "    }\n",
       "</style>\n",
       "<table border=\"1\" class=\"dataframe\">\n",
       "  <thead>\n",
       "    <tr style=\"text-align: right;\">\n",
       "      <th></th>\n",
       "      <th>set_num</th>\n",
       "      <th>name_x</th>\n",
       "      <th>year</th>\n",
       "      <th>num_parts</th>\n",
       "      <th>theme_name</th>\n",
       "      <th>parent_theme</th>\n",
       "      <th>id</th>\n",
       "      <th>is_licensed</th>\n",
       "    </tr>\n",
       "  </thead>\n",
       "  <tbody>\n",
       "    <tr>\n",
       "      <th>0</th>\n",
       "      <td>00-1</td>\n",
       "      <td>Weetabix Castle</td>\n",
       "      <td>1970</td>\n",
       "      <td>471.0</td>\n",
       "      <td>Castle</td>\n",
       "      <td>Legoland</td>\n",
       "      <td>411</td>\n",
       "      <td>False</td>\n",
       "    </tr>\n",
       "    <tr>\n",
       "      <th>1</th>\n",
       "      <td>00-2</td>\n",
       "      <td>Weetabix Promotional House 1</td>\n",
       "      <td>1976</td>\n",
       "      <td>NaN</td>\n",
       "      <td>Building</td>\n",
       "      <td>Legoland</td>\n",
       "      <td>411</td>\n",
       "      <td>False</td>\n",
       "    </tr>\n",
       "    <tr>\n",
       "      <th>2</th>\n",
       "      <td>00-3</td>\n",
       "      <td>Weetabix Promotional House 2</td>\n",
       "      <td>1976</td>\n",
       "      <td>NaN</td>\n",
       "      <td>Building</td>\n",
       "      <td>Legoland</td>\n",
       "      <td>411</td>\n",
       "      <td>False</td>\n",
       "    </tr>\n",
       "    <tr>\n",
       "      <th>3</th>\n",
       "      <td>00-4</td>\n",
       "      <td>Weetabix Promotional Windmill</td>\n",
       "      <td>1976</td>\n",
       "      <td>126.0</td>\n",
       "      <td>Building</td>\n",
       "      <td>Legoland</td>\n",
       "      <td>411</td>\n",
       "      <td>False</td>\n",
       "    </tr>\n",
       "    <tr>\n",
       "      <th>4</th>\n",
       "      <td>00-7</td>\n",
       "      <td>Weetabix Promotional Lego Village</td>\n",
       "      <td>1976</td>\n",
       "      <td>NaN</td>\n",
       "      <td>Building</td>\n",
       "      <td>Legoland</td>\n",
       "      <td>411</td>\n",
       "      <td>False</td>\n",
       "    </tr>\n",
       "  </tbody>\n",
       "</table>\n",
       "</div>"
      ],
      "text/plain": [
       "  set_num                             name_x  year  num_parts theme_name  \\\n",
       "0    00-1                    Weetabix Castle  1970      471.0     Castle   \n",
       "1    00-2       Weetabix Promotional House 1  1976        NaN   Building   \n",
       "2    00-3       Weetabix Promotional House 2  1976        NaN   Building   \n",
       "3    00-4      Weetabix Promotional Windmill  1976      126.0   Building   \n",
       "4    00-7  Weetabix Promotional Lego Village  1976        NaN   Building   \n",
       "\n",
       "  parent_theme   id  is_licensed  \n",
       "0     Legoland  411        False  \n",
       "1     Legoland  411        False  \n",
       "2     Legoland  411        False  \n",
       "3     Legoland  411        False  \n",
       "4     Legoland  411        False  "
      ]
     },
     "execution_count": 9,
     "metadata": {},
     "output_type": "execute_result"
    }
   ],
   "source": [
    "merged_df.head(5)"
   ]
  },
  {
   "cell_type": "markdown",
   "id": "ba346e13-e916-415e-9d19-55fb549ad7c1",
   "metadata": {
    "tags": []
   },
   "source": [
    "Before proceedinf further we will rename the __name_x__ column to __name__"
   ]
  },
  {
   "cell_type": "code",
   "execution_count": 10,
   "id": "9c6ffd11-4818-4e9f-9d40-e9d9ed38bc1e",
   "metadata": {
    "tags": []
   },
   "outputs": [],
   "source": [
    "merged_df = merged_df.rename(columns={'name_x':'name'})"
   ]
  },
  {
   "cell_type": "code",
   "execution_count": 11,
   "id": "4d074b55-eb4a-4b5d-9dbc-071e097ac45a",
   "metadata": {
    "tags": []
   },
   "outputs": [
    {
     "data": {
      "text/html": [
       "<div>\n",
       "<style scoped>\n",
       "    .dataframe tbody tr th:only-of-type {\n",
       "        vertical-align: middle;\n",
       "    }\n",
       "\n",
       "    .dataframe tbody tr th {\n",
       "        vertical-align: top;\n",
       "    }\n",
       "\n",
       "    .dataframe thead th {\n",
       "        text-align: right;\n",
       "    }\n",
       "</style>\n",
       "<table border=\"1\" class=\"dataframe\">\n",
       "  <thead>\n",
       "    <tr style=\"text-align: right;\">\n",
       "      <th></th>\n",
       "      <th>set_num</th>\n",
       "      <th>name</th>\n",
       "      <th>year</th>\n",
       "      <th>num_parts</th>\n",
       "      <th>theme_name</th>\n",
       "      <th>parent_theme</th>\n",
       "      <th>id</th>\n",
       "      <th>is_licensed</th>\n",
       "    </tr>\n",
       "  </thead>\n",
       "  <tbody>\n",
       "    <tr>\n",
       "      <th>0</th>\n",
       "      <td>00-1</td>\n",
       "      <td>Weetabix Castle</td>\n",
       "      <td>1970</td>\n",
       "      <td>471.0</td>\n",
       "      <td>Castle</td>\n",
       "      <td>Legoland</td>\n",
       "      <td>411</td>\n",
       "      <td>False</td>\n",
       "    </tr>\n",
       "    <tr>\n",
       "      <th>1</th>\n",
       "      <td>00-2</td>\n",
       "      <td>Weetabix Promotional House 1</td>\n",
       "      <td>1976</td>\n",
       "      <td>NaN</td>\n",
       "      <td>Building</td>\n",
       "      <td>Legoland</td>\n",
       "      <td>411</td>\n",
       "      <td>False</td>\n",
       "    </tr>\n",
       "    <tr>\n",
       "      <th>2</th>\n",
       "      <td>00-3</td>\n",
       "      <td>Weetabix Promotional House 2</td>\n",
       "      <td>1976</td>\n",
       "      <td>NaN</td>\n",
       "      <td>Building</td>\n",
       "      <td>Legoland</td>\n",
       "      <td>411</td>\n",
       "      <td>False</td>\n",
       "    </tr>\n",
       "    <tr>\n",
       "      <th>3</th>\n",
       "      <td>00-4</td>\n",
       "      <td>Weetabix Promotional Windmill</td>\n",
       "      <td>1976</td>\n",
       "      <td>126.0</td>\n",
       "      <td>Building</td>\n",
       "      <td>Legoland</td>\n",
       "      <td>411</td>\n",
       "      <td>False</td>\n",
       "    </tr>\n",
       "    <tr>\n",
       "      <th>4</th>\n",
       "      <td>00-7</td>\n",
       "      <td>Weetabix Promotional Lego Village</td>\n",
       "      <td>1976</td>\n",
       "      <td>NaN</td>\n",
       "      <td>Building</td>\n",
       "      <td>Legoland</td>\n",
       "      <td>411</td>\n",
       "      <td>False</td>\n",
       "    </tr>\n",
       "  </tbody>\n",
       "</table>\n",
       "</div>"
      ],
      "text/plain": [
       "  set_num                               name  year  num_parts theme_name  \\\n",
       "0    00-1                    Weetabix Castle  1970      471.0     Castle   \n",
       "1    00-2       Weetabix Promotional House 1  1976        NaN   Building   \n",
       "2    00-3       Weetabix Promotional House 2  1976        NaN   Building   \n",
       "3    00-4      Weetabix Promotional Windmill  1976      126.0   Building   \n",
       "4    00-7  Weetabix Promotional Lego Village  1976        NaN   Building   \n",
       "\n",
       "  parent_theme   id  is_licensed  \n",
       "0     Legoland  411        False  \n",
       "1     Legoland  411        False  \n",
       "2     Legoland  411        False  \n",
       "3     Legoland  411        False  \n",
       "4     Legoland  411        False  "
      ]
     },
     "execution_count": 11,
     "metadata": {},
     "output_type": "execute_result"
    }
   ],
   "source": [
    "merged_df.head(5)"
   ]
  },
  {
   "cell_type": "markdown",
   "id": "9dbb52bc-09c7-41a6-bc6a-438d35275781",
   "metadata": {},
   "source": [
    "We will now extract the licensed portion of lego sets from the DataFrame"
   ]
  },
  {
   "cell_type": "code",
   "execution_count": 12,
   "id": "eb571882-c60e-4c69-8b3b-aa263648deb2",
   "metadata": {
    "tags": []
   },
   "outputs": [],
   "source": [
    "licensed = merged_df[merged_df[\"is_licensed\"]==True]"
   ]
  },
  {
   "cell_type": "code",
   "execution_count": 13,
   "id": "6ba5e7c2-75c6-4528-86de-75587968905e",
   "metadata": {
    "tags": []
   },
   "outputs": [
    {
     "data": {
      "text/html": [
       "<div>\n",
       "<style scoped>\n",
       "    .dataframe tbody tr th:only-of-type {\n",
       "        vertical-align: middle;\n",
       "    }\n",
       "\n",
       "    .dataframe tbody tr th {\n",
       "        vertical-align: top;\n",
       "    }\n",
       "\n",
       "    .dataframe thead th {\n",
       "        text-align: right;\n",
       "    }\n",
       "</style>\n",
       "<table border=\"1\" class=\"dataframe\">\n",
       "  <thead>\n",
       "    <tr style=\"text-align: right;\">\n",
       "      <th></th>\n",
       "      <th>set_num</th>\n",
       "      <th>name</th>\n",
       "      <th>year</th>\n",
       "      <th>num_parts</th>\n",
       "      <th>theme_name</th>\n",
       "      <th>parent_theme</th>\n",
       "      <th>id</th>\n",
       "      <th>is_licensed</th>\n",
       "    </tr>\n",
       "  </thead>\n",
       "  <tbody>\n",
       "    <tr>\n",
       "      <th>3493</th>\n",
       "      <td>10018-1</td>\n",
       "      <td>Darth Maul</td>\n",
       "      <td>2001</td>\n",
       "      <td>1868.0</td>\n",
       "      <td>Star Wars</td>\n",
       "      <td>Star Wars</td>\n",
       "      <td>158</td>\n",
       "      <td>True</td>\n",
       "    </tr>\n",
       "    <tr>\n",
       "      <th>3494</th>\n",
       "      <td>10019-1</td>\n",
       "      <td>Rebel Blockade Runner - UCS</td>\n",
       "      <td>2001</td>\n",
       "      <td>NaN</td>\n",
       "      <td>Star Wars Episode 4/5/6</td>\n",
       "      <td>Star Wars</td>\n",
       "      <td>158</td>\n",
       "      <td>True</td>\n",
       "    </tr>\n",
       "    <tr>\n",
       "      <th>3495</th>\n",
       "      <td>10026-1</td>\n",
       "      <td>Naboo Starfighter - UCS</td>\n",
       "      <td>2002</td>\n",
       "      <td>NaN</td>\n",
       "      <td>Star Wars Episode 1</td>\n",
       "      <td>Star Wars</td>\n",
       "      <td>158</td>\n",
       "      <td>True</td>\n",
       "    </tr>\n",
       "    <tr>\n",
       "      <th>3496</th>\n",
       "      <td>10030-1</td>\n",
       "      <td>Imperial Star Destroyer - UCS</td>\n",
       "      <td>2002</td>\n",
       "      <td>3115.0</td>\n",
       "      <td>Star Wars Episode 4/5/6</td>\n",
       "      <td>Star Wars</td>\n",
       "      <td>158</td>\n",
       "      <td>True</td>\n",
       "    </tr>\n",
       "    <tr>\n",
       "      <th>3497</th>\n",
       "      <td>10123-1</td>\n",
       "      <td>Cloud City</td>\n",
       "      <td>2003</td>\n",
       "      <td>707.0</td>\n",
       "      <td>Star Wars Episode 4/5/6</td>\n",
       "      <td>Star Wars</td>\n",
       "      <td>158</td>\n",
       "      <td>True</td>\n",
       "    </tr>\n",
       "  </tbody>\n",
       "</table>\n",
       "</div>"
      ],
      "text/plain": [
       "      set_num                           name  year  num_parts  \\\n",
       "3493  10018-1                     Darth Maul  2001     1868.0   \n",
       "3494  10019-1    Rebel Blockade Runner - UCS  2001        NaN   \n",
       "3495  10026-1        Naboo Starfighter - UCS  2002        NaN   \n",
       "3496  10030-1  Imperial Star Destroyer - UCS  2002     3115.0   \n",
       "3497  10123-1                     Cloud City  2003      707.0   \n",
       "\n",
       "                   theme_name parent_theme   id  is_licensed  \n",
       "3493                Star Wars    Star Wars  158         True  \n",
       "3494  Star Wars Episode 4/5/6    Star Wars  158         True  \n",
       "3495      Star Wars Episode 1    Star Wars  158         True  \n",
       "3496  Star Wars Episode 4/5/6    Star Wars  158         True  \n",
       "3497  Star Wars Episode 4/5/6    Star Wars  158         True  "
      ]
     },
     "execution_count": 13,
     "metadata": {},
     "output_type": "execute_result"
    }
   ],
   "source": [
    "licensed.head()"
   ]
  },
  {
   "cell_type": "markdown",
   "id": "2deeb0e6-803b-42d2-a0aa-a77993d7277f",
   "metadata": {
    "tags": []
   },
   "source": [
    "We dont really want the Data where the __set_num__ doesnt exist so we are going to clean the missing values and duplicates."
   ]
  },
  {
   "cell_type": "code",
   "execution_count": 14,
   "id": "03e9db89-bc25-459d-8ff2-16e61e8a2e47",
   "metadata": {
    "tags": []
   },
   "outputs": [
    {
     "data": {
      "text/plain": [
       "set_num         153\n",
       "name            153\n",
       "year              0\n",
       "num_parts       577\n",
       "theme_name      153\n",
       "parent_theme      0\n",
       "id                0\n",
       "is_licensed       0\n",
       "dtype: int64"
      ]
     },
     "execution_count": 14,
     "metadata": {},
     "output_type": "execute_result"
    }
   ],
   "source": [
    "licensed.isnull().sum()"
   ]
  },
  {
   "cell_type": "code",
   "execution_count": 15,
   "id": "9f77b84e-1a71-4ac3-970e-47f4faa7dd8c",
   "metadata": {
    "tags": []
   },
   "outputs": [],
   "source": [
    "licensed = licensed.dropna(subset=['set_num'])"
   ]
  },
  {
   "cell_type": "code",
   "execution_count": 16,
   "id": "8343cd8b-73a9-46f1-acae-5412585b82c4",
   "metadata": {
    "tags": []
   },
   "outputs": [
    {
     "data": {
      "text/plain": [
       "set_num           0\n",
       "name              0\n",
       "year              0\n",
       "num_parts       515\n",
       "theme_name        0\n",
       "parent_theme      0\n",
       "id                0\n",
       "is_licensed       0\n",
       "dtype: int64"
      ]
     },
     "execution_count": 16,
     "metadata": {},
     "output_type": "execute_result"
    }
   ],
   "source": [
    "licensed.isnull().sum()"
   ]
  },
  {
   "cell_type": "markdown",
   "id": "aefdbfcd-4e3f-42e7-816e-b65fd75fc251",
   "metadata": {},
   "source": [
    "Now we are going to find out what percentage of the licensed dataset is Star Wars Themed."
   ]
  },
  {
   "cell_type": "markdown",
   "id": "3d15ae5d-763a-4cae-9357-e8bb373183b1",
   "metadata": {},
   "source": [
    "Lets check for duplicates."
   ]
  },
  {
   "cell_type": "code",
   "execution_count": 17,
   "id": "60fa0a58-9ec1-499e-8f2a-ee8decfc0093",
   "metadata": {
    "tags": []
   },
   "outputs": [
    {
     "data": {
      "text/plain": [
       "3493     False\n",
       "3494     False\n",
       "3495     False\n",
       "3496     False\n",
       "3497     False\n",
       "         ...  \n",
       "11981    False\n",
       "11982    False\n",
       "11983    False\n",
       "11984    False\n",
       "11985    False\n",
       "Length: 1179, dtype: bool"
      ]
     },
     "execution_count": 17,
     "metadata": {},
     "output_type": "execute_result"
    }
   ],
   "source": [
    "licensed.duplicated()"
   ]
  },
  {
   "cell_type": "markdown",
   "id": "118adc2c-6413-4faf-ba99-6024c3267303",
   "metadata": {
    "tags": []
   },
   "source": [
    "So we can see that there are no duplicates."
   ]
  },
  {
   "cell_type": "code",
   "execution_count": 18,
   "id": "1d00ffd3-8fa0-4b8d-9c49-931f64057535",
   "metadata": {
    "tags": []
   },
   "outputs": [],
   "source": [
    "star_wars = licensed[licensed[\"parent_theme\"]==\"Star Wars\"]"
   ]
  },
  {
   "cell_type": "code",
   "execution_count": 19,
   "id": "8cf6891e-af0e-4057-a3f5-619c68643ceb",
   "metadata": {
    "tags": []
   },
   "outputs": [
    {
     "name": "stdout",
     "output_type": "stream",
     "text": [
      "The percentage of licensed lego Sets that are star wars themed:\n",
      " 51.653944020356235\n"
     ]
    }
   ],
   "source": [
    "perc_starwars = (len(star_wars)/len(licensed))*100\n",
    "print(f'The percentage of licensed lego Sets that are star wars themed:\\n {perc_starwars}')"
   ]
  },
  {
   "cell_type": "code",
   "execution_count": 20,
   "id": "8ec460f3-136b-454b-9f38-89cecffd9752",
   "metadata": {
    "tags": []
   },
   "outputs": [
    {
     "data": {
      "text/plain": [
       "Star Wars                           609\n",
       "Super Heroes                        242\n",
       "Harry Potter                         67\n",
       "The Hobbit and Lord of the Rings     40\n",
       "Minecraft                            30\n",
       "Disney Princess                      29\n",
       "Cars                                 27\n",
       "Teenage Mutant Ninja Turtles         21\n",
       "Indiana Jones                        19\n",
       "Pirates of the Caribbean             17\n",
       "Toy Story                            15\n",
       "SpongeBob SquarePants                14\n",
       "The Lone Ranger                       8\n",
       "Jurassic World                        7\n",
       "Scooby-Doo                            6\n",
       "Disney's Mickey Mouse                 6\n",
       "Prince of Persia                      6\n",
       "Angry Birds                           6\n",
       "Ben 10                                6\n",
       "Avatar                                2\n",
       "Disney                                1\n",
       "Ghostbusters                          1\n",
       "Name: parent_theme, dtype: int64"
      ]
     },
     "execution_count": 20,
     "metadata": {},
     "output_type": "execute_result"
    }
   ],
   "source": [
    "licensed[\"parent_theme\"].value_counts()"
   ]
  },
  {
   "cell_type": "markdown",
   "id": "f3cd46a3-3471-4d4d-8692-a3850f8eae0b",
   "metadata": {},
   "source": [
    "We have so many different values in the \"parent_them\" column. Visualizing the Data would not look so tidy.\n",
    "So we can group the rest of the data in a single category called others and the other category would be Star Wars."
   ]
  },
  {
   "cell_type": "markdown",
   "id": "f1feed79-c7af-4f76-a662-a54e2698d425",
   "metadata": {},
   "source": [
    "__Visualizing the Data__"
   ]
  },
  {
   "cell_type": "code",
   "execution_count": 21,
   "id": "5b8796f4-d85f-4ee7-94e3-73f0e7025cc5",
   "metadata": {
    "tags": []
   },
   "outputs": [],
   "source": [
    "licensed[\"parent_theme_grouped\"] = licensed[\"parent_theme\"].apply(lambda x: 'Other' if x != 'Star Wars' else x)"
   ]
  },
  {
   "cell_type": "code",
   "execution_count": 22,
   "id": "b214b2b6-f14c-4d39-bb78-8afaf6ee342e",
   "metadata": {
    "tags": []
   },
   "outputs": [
    {
     "data": {
      "text/plain": [
       "['set_num',\n",
       " 'name',\n",
       " 'year',\n",
       " 'num_parts',\n",
       " 'theme_name',\n",
       " 'parent_theme',\n",
       " 'id',\n",
       " 'is_licensed',\n",
       " 'parent_theme_grouped']"
      ]
     },
     "execution_count": 22,
     "metadata": {},
     "output_type": "execute_result"
    }
   ],
   "source": [
    "licensed.columns.tolist()"
   ]
  },
  {
   "cell_type": "code",
   "execution_count": 23,
   "id": "cbd699d3-d7cf-4ce5-b52c-41fd991d8111",
   "metadata": {
    "tags": []
   },
   "outputs": [
    {
     "data": {
      "image/png": "[encoded data removed]",
      "text/plain": [
       "<Figure size 640x480 with 1 Axes>"
      ]
     },
     "metadata": {},
     "output_type": "display_data"
    }
   ],
   "source": [
    "parent_theme_counts = licensed['parent_theme_grouped'].value_counts()\n",
    "\n",
    "plt.pie(parent_theme_counts, labels=parent_theme_counts.index, autopct='%1.1f%%')\n",
    "\n",
    "plt.title('Distribution of Parent Themes')\n",
    "\n",
    "plt.show()"
   ]
  },
  {
   "cell_type": "markdown",
   "id": "08981c52-aa56-427b-8484-3f4ad2f4dfbe",
   "metadata": {},
   "source": [
    "Now we Filter the Data for the Star Wars Licensed sets so we can find out how many sets were released each year."
   ]
  },
  {
   "cell_type": "code",
   "execution_count": 24,
   "id": "ca09789c-1d37-46ca-a6d5-4d94f171b968",
   "metadata": {
    "tags": []
   },
   "outputs": [],
   "source": [
    "star_wars_licensed = licensed[licensed[\"parent_theme\"]==\"Star Wars\"]"
   ]
  },
  {
   "cell_type": "code",
   "execution_count": 27,
   "id": "bb26ee5e-bdcb-45e7-a223-9f4249988b8e",
   "metadata": {
    "tags": []
   },
   "outputs": [
    {
     "data": {
      "text/html": [
       "<div>\n",
       "<style scoped>\n",
       "    .dataframe tbody tr th:only-of-type {\n",
       "        vertical-align: middle;\n",
       "    }\n",
       "\n",
       "    .dataframe tbody tr th {\n",
       "        vertical-align: top;\n",
       "    }\n",
       "\n",
       "    .dataframe thead th {\n",
       "        text-align: right;\n",
       "    }\n",
       "</style>\n",
       "<table border=\"1\" class=\"dataframe\">\n",
       "  <thead>\n",
       "    <tr style=\"text-align: right;\">\n",
       "      <th></th>\n",
       "      <th>set_num</th>\n",
       "      <th>name</th>\n",
       "      <th>year</th>\n",
       "      <th>num_parts</th>\n",
       "      <th>theme_name</th>\n",
       "      <th>parent_theme</th>\n",
       "      <th>id</th>\n",
       "      <th>is_licensed</th>\n",
       "      <th>parent_theme_grouped</th>\n",
       "    </tr>\n",
       "  </thead>\n",
       "  <tbody>\n",
       "    <tr>\n",
       "      <th>3493</th>\n",
       "      <td>10018-1</td>\n",
       "      <td>Darth Maul</td>\n",
       "      <td>2001</td>\n",
       "      <td>1868.0</td>\n",
       "      <td>Star Wars</td>\n",
       "      <td>Star Wars</td>\n",
       "      <td>158</td>\n",
       "      <td>True</td>\n",
       "      <td>Star Wars</td>\n",
       "    </tr>\n",
       "    <tr>\n",
       "      <th>3494</th>\n",
       "      <td>10019-1</td>\n",
       "      <td>Rebel Blockade Runner - UCS</td>\n",
       "      <td>2001</td>\n",
       "      <td>NaN</td>\n",
       "      <td>Star Wars Episode 4/5/6</td>\n",
       "      <td>Star Wars</td>\n",
       "      <td>158</td>\n",
       "      <td>True</td>\n",
       "      <td>Star Wars</td>\n",
       "    </tr>\n",
       "    <tr>\n",
       "      <th>3495</th>\n",
       "      <td>10026-1</td>\n",
       "      <td>Naboo Starfighter - UCS</td>\n",
       "      <td>2002</td>\n",
       "      <td>NaN</td>\n",
       "      <td>Star Wars Episode 1</td>\n",
       "      <td>Star Wars</td>\n",
       "      <td>158</td>\n",
       "      <td>True</td>\n",
       "      <td>Star Wars</td>\n",
       "    </tr>\n",
       "  </tbody>\n",
       "</table>\n",
       "</div>"
      ],
      "text/plain": [
       "      set_num                         name  year  num_parts  \\\n",
       "3493  10018-1                   Darth Maul  2001     1868.0   \n",
       "3494  10019-1  Rebel Blockade Runner - UCS  2001        NaN   \n",
       "3495  10026-1      Naboo Starfighter - UCS  2002        NaN   \n",
       "\n",
       "                   theme_name parent_theme   id  is_licensed  \\\n",
       "3493                Star Wars    Star Wars  158         True   \n",
       "3494  Star Wars Episode 4/5/6    Star Wars  158         True   \n",
       "3495      Star Wars Episode 1    Star Wars  158         True   \n",
       "\n",
       "     parent_theme_grouped  \n",
       "3493            Star Wars  \n",
       "3494            Star Wars  \n",
       "3495            Star Wars  "
      ]
     },
     "execution_count": 27,
     "metadata": {},
     "output_type": "execute_result"
    }
   ],
   "source": [
    "star_wars_licensed.head(3)"
   ]
  },
  {
   "cell_type": "code",
   "execution_count": 34,
   "id": "7a24921a-59ec-4e7a-8f49-8aff717b1502",
   "metadata": {
    "tags": []
   },
   "outputs": [
    {
     "name": "stdout",
     "output_type": "stream",
     "text": [
      "    year  Count\n",
      "0   1999     13\n",
      "1   2000     26\n",
      "2   2001     14\n",
      "3   2002     28\n",
      "4   2003     32\n",
      "5   2004     20\n",
      "6   2005     28\n",
      "7   2006     11\n",
      "8   2007     16\n",
      "9   2008     23\n",
      "10  2009     39\n",
      "11  2010     30\n",
      "12  2011     32\n",
      "13  2012     43\n",
      "14  2013     35\n",
      "15  2014     45\n",
      "16  2015     58\n",
      "17  2016     61\n",
      "18  2017     55\n"
     ]
    }
   ],
   "source": [
    "yearly_releases = star_wars_licensed.groupby('year').size().reset_index(name='Count')\n",
    "print(yearly_releases)"
   ]
  },
  {
   "cell_type": "code",
   "execution_count": 35,
   "id": "38c12798-c1cb-4356-bd7f-cbe51c5b65a2",
   "metadata": {
    "tags": []
   },
   "outputs": [
    {
     "data": {
      "text/plain": [
       "year     1999\n",
       "Count      11\n",
       "dtype: int64"
      ]
     },
     "execution_count": 35,
     "metadata": {},
     "output_type": "execute_result"
    }
   ],
   "source": [
    "yearly_releases.min()"
   ]
  },
  {
   "cell_type": "markdown",
   "id": "b1f58df1-8694-4445-a440-8601f967576f",
   "metadata": {},
   "source": [
    "We can clearly see that we have a tie. The popularity of Star Wars according to the sets produced were the lowest in the year __1999__ and __2006__"
   ]
  },
  {
   "cell_type": "code",
   "execution_count": 33,
   "id": "e5d5e8dc-aa08-453f-a272-4426fa84d326",
   "metadata": {
    "tags": []
   },
   "outputs": [
    {
     "data": {
      "image/png": "[encoded data removed]",
      "text/plain": [
       "<Figure size 640x480 with 1 Axes>"
      ]
     },
     "metadata": {},
     "output_type": "display_data"
    }
   ],
   "source": [
    "#Visualizing the Data\n",
    "plt.plot(yearly_releases['year'], yearly_releases['Count'])\n",
    "plt.xlabel('Year')\n",
    "plt.ylabel('Number of Star Wars Licensed Sets')\n",
    "plt.title('Star Wars LEGO Sets Released Each Year')\n",
    "plt.show()"
   ]
  },
  {
   "cell_type": "markdown",
   "id": "74a9df33-ce38-4344-9569-439f5e2f1417",
   "metadata": {},
   "source": [
    "## Data analysis Results:"
   ]
  },
  {
   "cell_type": "markdown",
   "id": "65fcaf91-fcf6-445f-b5a9-b2177f337833",
   "metadata": {},
   "source": [
    "### Objective 1: Percentage of Star Wars Licensed Sets\n",
    "\n",
    "**Finding:** 51.7% of all licensed LEGO sets ever released were Star Wars themed.\n",
    "\n",
    "**Interpretation:** This significant percentage underscores the enduring popularity of the Star Wars franchise among LEGO enthusiasts. The high proportion of Star Wars sets likely reflects the franchise's global appeal and its ability to capture the imagination of fans of all ages.\n",
    "\n",
    "### Objective 2: Years When Star Wars Was Not the Most Popular Licensed Theme\n",
    "\n",
    "**Finding:** Star Wars was not the most popular licensed theme in 1999 and 2006.\n",
    "\n",
    "**Interpretation:** While Star Wars has consistently been a major force in the LEGO licensed theme landscape, there were specific years where other licensed themes outperformed it. This could be attributed to various factors, such as:\n",
    "\n",
    "* **Competition from other popular franchises:** In 1999 and 2006, other licensed themes (e.g., Harry Potter, Lord of the Rings) may have experienced surges in popularity, leading to a higher number of sets being released.\n",
    "* **Strategic decisions by LEGO:** LEGO's product strategy may have influenced the number of sets released for different themes in these years. For instance, they might have focused on expanding other franchises to diversify their product line.\n",
    "* **Market trends and consumer preferences:** Changes in consumer preferences or market trends could have impacted the demand for Star Wars sets in these specific years.\n",
    "\n",
    "**Overall, the analysis suggests that while Star Wars has been a dominant force in the LEGO licensed theme space, its popularity is not always unchallenged. Other franchises can occasionally compete for the top spot, demonstrating the dynamic nature of the LEGO market.**\n"
   ]
  },
  {
   "cell_type": "code",
   "execution_count": null,
   "id": "cead1ac1-1381-472f-b1ee-2dc1f2c92791",
   "metadata": {},
   "outputs": [],
   "source": []
  }
 ],
 "metadata": {
  "kernelspec": {
   "display_name": "Python 3 (ipykernel)",
   "language": "python",
   "name": "python3"
  },
  "language_info": {
   "codemirror_mode": {
    "name": "ipython",
    "version": 3
   },
   "file_extension": ".py",
   "mimetype": "text/x-python",
   "name": "python",
   "nbconvert_exporter": "python",
   "pygments_lexer": "ipython3",
   "version": "3.11.4"
  }
 },
 "nbformat": 4,
 "nbformat_minor": 5
}
